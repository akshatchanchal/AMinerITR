{
 "cells": [
  {
   "cell_type": "markdown",
   "metadata": {},
   "source": [
    "In this notebook I will parse in the data from the AMiner repository (https://aminer.org/aminernetwork) which includes the paper informaton for millions of academic papers, and do a interrupted time series regression, as part of a Quasi-experiment. \n",
    "\n",
    "The packages we will use for this are Pandas, Pyplot, and StatsModels"
   ]
  },
  {
   "cell_type": "code",
   "execution_count": 1,
   "metadata": {},
   "outputs": [],
   "source": [
    "import pandas as pd\n",
    "from matplotlib import pyplot as plt\n",
    "import statsmodels.formula.api as smf\n",
    "\n",
    "%matplotlib inline"
   ]
  },
  {
   "cell_type": "markdown",
   "metadata": {},
   "source": [
    "First, since the data is in a text file with certain tags denoting different pieces of information, we need to get the text into a usable format. To do this I will use pandas, a series of conditionals to determine which tags are present, and file I/O."
   ]
  },
  {
   "cell_type": "code",
   "execution_count": 2,
   "metadata": {},
   "outputs": [],
   "source": [
    "def gen():\n",
    "    with open('AMiner-Paper.txt', 'r',  encoding=\"utf8\") as f:\n",
    "        datum={}\n",
    "        citations =0\n",
    "        row=0\n",
    "        readFile = f.readlines()\n",
    "        for line in readFile:\n",
    "            \n",
    "            if '#index' in line:\n",
    "                if bool(datum):\n",
    "                    datum['citations'] = citations\n",
    "                    try:\n",
    "                        for i in range(len(datum['author'])):\n",
    "                            \n",
    "                            datum_to_save = datum.copy()\n",
    "                            datum_to_save['author']=datum['author'][i]\n",
    "                            datum_to_save['affiliation']=datum['affiliation'][i]\n",
    "                            yield datum_to_save\n",
    "                            row+=1\n",
    "                    except IndexError as e:\n",
    "                        continue\n",
    "                    \n",
    "                    datum={}\n",
    "                    citations =0\n",
    "                datum['id'] = line[7:].rstrip()\n",
    "                \n",
    "            elif '#*' in line:\n",
    "                datum['title'] = line[3:].rstrip()\n",
    "            elif '#@' in line:\n",
    "                datum['author'] = line[3:].rstrip().rsplit(\";\")\n",
    "            elif '#o' in line:\n",
    "                datum['affiliation'] = line[3:].rstrip().rsplit(\";\")\n",
    "            elif '#t' in line:\n",
    "                datum['year'] = line[3:].rstrip()\n",
    "            elif '#c' in line:\n",
    "                datum['venue'] = line[3:].rstrip()\n",
    "            elif '#%' in line:\n",
    "                citations +=1\n",
    "            elif '#!' in line:\n",
    "                datum['abstract'] = line[3:].rstrip()\n",
    "\n",
    "\n",
    "data = pd.DataFrame(gen(), columns =('id', 'title', 'author', 'affiliation', 'year', \n",
    "                                  'venue', 'citations', 'abstract'))\n",
    "data['year'] =pd.to_numeric(data['year'], errors = 'coerce').fillna(0)"
   ]
  },
  {
   "cell_type": "markdown",
   "metadata": {},
   "source": [
    "Two things to note about getting the information in from the test file: there are many papers that are missing informaiton, which I have just filled in with '0' and that I used a generator function to feed as an iterable to the data frame constructor. This version of constructing the data frame is *significantly* faster then other methods I had tried (i.e. creating a blank data frame and appending entries to it, or df.append())."
   ]
  },
  {
   "cell_type": "markdown",
   "metadata": {},
   "source": [
    "Now, moving to the interrupted time series, I would like to look at whether the advent, or 'intervention' of widely avaible internet research sources was significant to the amount of ciations that publications were recieving. I will nominally pick 2001 as the year of 'intervention' for when internet academic resources became widely available (it is also when Wikipedia came online). Please note, there are porbably many other years than one could argue should be the intervention, and so I have provided the code to test out all possible hypotheses for anyone who would like to test them.\n",
    "\n",
    "I will begin with looking at some summary statistics"
   ]
  },
  {
   "cell_type": "code",
   "execution_count": 3,
   "metadata": {},
   "outputs": [
    {
     "data": {
      "text/html": [
       "<div>\n",
       "<style scoped>\n",
       "    .dataframe tbody tr th:only-of-type {\n",
       "        vertical-align: middle;\n",
       "    }\n",
       "\n",
       "    .dataframe tbody tr th {\n",
       "        vertical-align: top;\n",
       "    }\n",
       "\n",
       "    .dataframe thead th {\n",
       "        text-align: right;\n",
       "    }\n",
       "</style>\n",
       "<table border=\"1\" class=\"dataframe\">\n",
       "  <thead>\n",
       "    <tr style=\"text-align: right;\">\n",
       "      <th></th>\n",
       "      <th>year</th>\n",
       "      <th>citations</th>\n",
       "    </tr>\n",
       "  </thead>\n",
       "  <tbody>\n",
       "    <tr>\n",
       "      <th>count</th>\n",
       "      <td>5.276680e+06</td>\n",
       "      <td>5.276680e+06</td>\n",
       "    </tr>\n",
       "    <tr>\n",
       "      <th>mean</th>\n",
       "      <td>2.004287e+03</td>\n",
       "      <td>4.453837e+00</td>\n",
       "    </tr>\n",
       "    <tr>\n",
       "      <th>std</th>\n",
       "      <td>1.613523e+01</td>\n",
       "      <td>7.850490e+00</td>\n",
       "    </tr>\n",
       "    <tr>\n",
       "      <th>min</th>\n",
       "      <td>0.000000e+00</td>\n",
       "      <td>0.000000e+00</td>\n",
       "    </tr>\n",
       "    <tr>\n",
       "      <th>25%</th>\n",
       "      <td>2.000000e+03</td>\n",
       "      <td>0.000000e+00</td>\n",
       "    </tr>\n",
       "    <tr>\n",
       "      <th>50%</th>\n",
       "      <td>2.007000e+03</td>\n",
       "      <td>0.000000e+00</td>\n",
       "    </tr>\n",
       "    <tr>\n",
       "      <th>75%</th>\n",
       "      <td>2.010000e+03</td>\n",
       "      <td>7.000000e+00</td>\n",
       "    </tr>\n",
       "    <tr>\n",
       "      <th>max</th>\n",
       "      <td>2.014000e+03</td>\n",
       "      <td>8.060000e+02</td>\n",
       "    </tr>\n",
       "  </tbody>\n",
       "</table>\n",
       "</div>"
      ],
      "text/plain": [
       "               year     citations\n",
       "count  5.276680e+06  5.276680e+06\n",
       "mean   2.004287e+03  4.453837e+00\n",
       "std    1.613523e+01  7.850490e+00\n",
       "min    0.000000e+00  0.000000e+00\n",
       "25%    2.000000e+03  0.000000e+00\n",
       "50%    2.007000e+03  0.000000e+00\n",
       "75%    2.010000e+03  7.000000e+00\n",
       "max    2.014000e+03  8.060000e+02"
      ]
     },
     "execution_count": 3,
     "metadata": {},
     "output_type": "execute_result"
    }
   ],
   "source": [
    "data.describe()"
   ]
  },
  {
   "cell_type": "code",
   "execution_count": 4,
   "metadata": {},
   "outputs": [
    {
     "data": {
      "text/plain": [
       "<matplotlib.collections.PathCollection at 0x2a2ac4c0f98>"
      ]
     },
     "execution_count": 4,
     "metadata": {},
     "output_type": "execute_result"
    },
    {
     "data": {
      "image/png": "[encoded data removed]",
      "text/plain": [
       "<matplotlib.figure.Figure at 0x2a2ac5b3978>"
      ]
     },
     "metadata": {},
     "output_type": "display_data"
    }
   ],
   "source": [
    "plt.scatter(data[\"year\"], data[\"citations\"])"
   ]
  },
  {
   "cell_type": "markdown",
   "metadata": {},
   "source": [
    "It looks like we have some years at the value of '0', which means they were missing data, and so we will have to take those out. Also, there are a lot of publications that have been cited 0 times. So, in order to keep more normal distributions in the citations, I will also take these out. So, we will be looking at: of the papers that are cited, have they increased in the number citations that they get following the intervention of widely available internet research resources."
   ]
  },
  {
   "cell_type": "code",
   "execution_count": 5,
   "metadata": {},
   "outputs": [
    {
     "data": {
      "text/plain": [
       "<matplotlib.lines.Line2D at 0x2a2ac573358>"
      ]
     },
     "execution_count": 5,
     "metadata": {},
     "output_type": "execute_result"
    },
    {
     "data": {
      "image/png": "[encoded data removed]",
      "text/plain": [
       "<matplotlib.figure.Figure at 0x2a2ac5b3710>"
      ]
     },
     "metadata": {},
     "output_type": "display_data"
    }
   ],
   "source": [
    "data = data[data[\"citations\"] >0]\n",
    "data = data[data[\"year\"] >0]\n",
    "\n",
    "plt.scatter(data[\"year\"], data[\"citations\"], facecolors='none', edgecolors='blue')\n",
    "plt.axvline(x=2001, color ='red', linewidth=2.0)"
   ]
  },
  {
   "cell_type": "code",
   "execution_count": 6,
   "metadata": {},
   "outputs": [
    {
     "data": {
      "text/plain": [
       "(array([  7.63560000e+04,   7.22600000e+03,   5.43000000e+02,\n",
       "          1.20000000e+02,   2.70000000e+01,   2.60000000e+01,\n",
       "          1.80000000e+01,   3.00000000e+00,   0.00000000e+00,\n",
       "          1.00000000e+00]),\n",
       " array([   1. ,   18.6,   36.2,   53.8,   71.4,   89. ,  106.6,  124.2,\n",
       "         141.8,  159.4,  177. ]),\n",
       " <a list of 10 Patch objects>)"
      ]
     },
     "execution_count": 6,
     "metadata": {},
     "output_type": "execute_result"
    },
    {
     "data": {
      "image/png": "[encoded data removed]",
      "text/plain": [
       "<matplotlib.figure.Figure at 0x2a0b4aac5c0>"
      ]
     },
     "metadata": {},
     "output_type": "display_data"
    }
   ],
   "source": [
    "plt.hist(data[data[\"year\"]==2002]['citations'])"
   ]
  },
  {
   "cell_type": "code",
   "execution_count": 7,
   "metadata": {},
   "outputs": [
    {
     "data": {
      "text/plain": [
       "{'boxes': [<matplotlib.lines.Line2D at 0x2a2abfe6748>],\n",
       " 'caps': [<matplotlib.lines.Line2D at 0x2a2abfda0b8>,\n",
       "  <matplotlib.lines.Line2D at 0x2a2abfd1748>],\n",
       " 'fliers': [<matplotlib.lines.Line2D at 0x2a2abfc54e0>],\n",
       " 'means': [],\n",
       " 'medians': [<matplotlib.lines.Line2D at 0x2a2abfc5dd8>],\n",
       " 'whiskers': [<matplotlib.lines.Line2D at 0x2a2abfe6320>,\n",
       "  <matplotlib.lines.Line2D at 0x2a2abfda940>]}"
      ]
     },
     "execution_count": 7,
     "metadata": {},
     "output_type": "execute_result"
    },
    {
     "data": {
      "image/png": "[encoded data removed]",
      "text/plain": [
       "<matplotlib.figure.Figure at 0x2a0b213e3c8>"
      ]
     },
     "metadata": {},
     "output_type": "display_data"
    }
   ],
   "source": [
    "plt.boxplot(data[data[\"year\"]==2002]['citations'])"
   ]
  },
  {
   "cell_type": "markdown",
   "metadata": {},
   "source": [
    "Looking at the plots, it looks like the assumption of equal variances between years is likely violated, as well as some skewing and non-normality. However, we will push ahead with the interupted time series analysis.\n",
    "\n",
    "To do the interrupted time series regression we need to keep track of when the intervention occurs, and time since the intervention occured. So, our regression equation will have the form:\n",
    "\n",
    "$$\n",
    "E (Y) = \\beta_0 + \\beta_{treatment} X_i + \\beta_{year} Y + \\beta_{treatment*year} Y*X_i\n",
    "$$\n",
    "\n",
    "Where $Y$ is the year and $X_i$ is a dummy indicator variable for each of the $i$ data points that is 1 when if the paper occurred after 2001 and 0 if before."
   ]
  },
  {
   "cell_type": "code",
   "execution_count": 8,
   "metadata": {},
   "outputs": [
    {
     "data": {
      "text/plain": [
       "Intercept                -402.395045\n",
       "treatment[T.True]        -278.605919\n",
       "year                        0.205873\n",
       "treatment[T.True]:year      0.138145\n",
       "dtype: float64"
      ]
     },
     "execution_count": 8,
     "metadata": {},
     "output_type": "execute_result"
    }
   ],
   "source": [
    "data['treatment'] = data['year'] >= 2001\n",
    "data.drop_duplicates(subset='id')\n",
    "\n",
    "lm = smf.ols(\"citations ~ year + treatment + treatment*year\", data).fit()\n",
    "lm.params"
   ]
  },
  {
   "cell_type": "code",
   "execution_count": 9,
   "metadata": {},
   "outputs": [
    {
     "data": {
      "text/html": [
       "<table class=\"simpletable\">\n",
       "<caption>OLS Regression Results</caption>\n",
       "<tr>\n",
       "  <th>Dep. Variable:</th>        <td>citations</td>    <th>  R-squared:         </th>  <td>   0.022</td>  \n",
       "</tr>\n",
       "<tr>\n",
       "  <th>Model:</th>                   <td>OLS</td>       <th>  Adj. R-squared:    </th>  <td>   0.022</td>  \n",
       "</tr>\n",
       "<tr>\n",
       "  <th>Method:</th>             <td>Least Squares</td>  <th>  F-statistic:       </th>  <td>1.829e+04</td> \n",
       "</tr>\n",
       "<tr>\n",
       "  <th>Date:</th>             <td>Fri, 17 Nov 2017</td> <th>  Prob (F-statistic):</th>   <td>  0.00</td>   \n",
       "</tr>\n",
       "<tr>\n",
       "  <th>Time:</th>                 <td>14:40:59</td>     <th>  Log-Likelihood:    </th> <td>-8.8256e+06</td>\n",
       "</tr>\n",
       "<tr>\n",
       "  <th>No. Observations:</th>      <td>2438263</td>     <th>  AIC:               </th>  <td>1.765e+07</td> \n",
       "</tr>\n",
       "<tr>\n",
       "  <th>Df Residuals:</th>          <td>2438259</td>     <th>  BIC:               </th>  <td>1.765e+07</td> \n",
       "</tr>\n",
       "<tr>\n",
       "  <th>Df Model:</th>              <td>     3</td>      <th>                     </th>      <td> </td>     \n",
       "</tr>\n",
       "<tr>\n",
       "  <th>Covariance Type:</th>      <td>nonrobust</td>    <th>                     </th>      <td> </td>     \n",
       "</tr>\n",
       "</table>\n",
       "<table class=\"simpletable\">\n",
       "<tr>\n",
       "             <td></td>               <th>coef</th>     <th>std err</th>      <th>t</th>      <th>P>|t|</th>  <th>[0.025</th>    <th>0.975]</th>  \n",
       "</tr>\n",
       "<tr>\n",
       "  <th>Intercept</th>              <td> -402.3950</td> <td>    4.346</td> <td>  -92.597</td> <td> 0.000</td> <td> -410.912</td> <td> -393.878</td>\n",
       "</tr>\n",
       "<tr>\n",
       "  <th>treatment[T.True]</th>      <td> -278.6059</td> <td>    5.748</td> <td>  -48.474</td> <td> 0.000</td> <td> -289.871</td> <td> -267.341</td>\n",
       "</tr>\n",
       "<tr>\n",
       "  <th>year</th>                   <td>    0.2059</td> <td>    0.002</td> <td>   94.428</td> <td> 0.000</td> <td>    0.202</td> <td>    0.210</td>\n",
       "</tr>\n",
       "<tr>\n",
       "  <th>treatment[T.True]:year</th> <td>    0.1381</td> <td>    0.003</td> <td>   48.062</td> <td> 0.000</td> <td>    0.133</td> <td>    0.144</td>\n",
       "</tr>\n",
       "</table>\n",
       "<table class=\"simpletable\">\n",
       "<tr>\n",
       "  <th>Omnibus:</th>       <td>3155960.997</td> <th>  Durbin-Watson:     </th>    <td>   0.437</td>   \n",
       "</tr>\n",
       "<tr>\n",
       "  <th>Prob(Omnibus):</th>   <td> 0.000</td>    <th>  Jarque-Bera (JB):  </th> <td>5347515410.641</td>\n",
       "</tr>\n",
       "<tr>\n",
       "  <th>Skew:</th>            <td> 6.415</td>    <th>  Prob(JB):          </th>    <td>    0.00</td>   \n",
       "</tr>\n",
       "<tr>\n",
       "  <th>Kurtosis:</th>        <td>232.066</td>   <th>  Cond. No.          </th>    <td>3.17e+06</td>   \n",
       "</tr>\n",
       "</table>"
      ],
      "text/plain": [
       "<class 'statsmodels.iolib.summary.Summary'>\n",
       "\"\"\"\n",
       "                            OLS Regression Results                            \n",
       "==============================================================================\n",
       "Dep. Variable:              citations   R-squared:                       0.022\n",
       "Model:                            OLS   Adj. R-squared:                  0.022\n",
       "Method:                 Least Squares   F-statistic:                 1.829e+04\n",
       "Date:                Fri, 17 Nov 2017   Prob (F-statistic):               0.00\n",
       "Time:                        14:40:59   Log-Likelihood:            -8.8256e+06\n",
       "No. Observations:             2438263   AIC:                         1.765e+07\n",
       "Df Residuals:                 2438259   BIC:                         1.765e+07\n",
       "Df Model:                           3                                         \n",
       "Covariance Type:            nonrobust                                         \n",
       "==========================================================================================\n",
       "                             coef    std err          t      P>|t|      [0.025      0.975]\n",
       "------------------------------------------------------------------------------------------\n",
       "Intercept               -402.3950      4.346    -92.597      0.000    -410.912    -393.878\n",
       "treatment[T.True]       -278.6059      5.748    -48.474      0.000    -289.871    -267.341\n",
       "year                       0.2059      0.002     94.428      0.000       0.202       0.210\n",
       "treatment[T.True]:year     0.1381      0.003     48.062      0.000       0.133       0.144\n",
       "==============================================================================\n",
       "Omnibus:                  3155960.997   Durbin-Watson:                   0.437\n",
       "Prob(Omnibus):                  0.000   Jarque-Bera (JB):       5347515410.641\n",
       "Skew:                           6.415   Prob(JB):                         0.00\n",
       "Kurtosis:                     232.066   Cond. No.                     3.17e+06\n",
       "==============================================================================\n",
       "\n",
       "Warnings:\n",
       "[1] Standard Errors assume that the covariance matrix of the errors is correctly specified.\n",
       "[2] The condition number is large, 3.17e+06. This might indicate that there are\n",
       "strong multicollinearity or other numerical problems.\n",
       "\"\"\""
      ]
     },
     "execution_count": 9,
     "metadata": {},
     "output_type": "execute_result"
    }
   ],
   "source": [
    "lm.summary()"
   ]
  },
  {
   "cell_type": "markdown",
   "metadata": {},
   "source": [
    "From the model results, it looks both time and intervention are significant with large statistic values and significant $p$-values. However, the adjusted $R$-squared is also quite low, so the model itself does not do a good job explaining the variance in the data. Perhaps a different, nonlinear, method is needed to investigate possible changes is academic publications over time."
   ]
  }
 ],
 "metadata": {
  "kernelspec": {
   "display_name": "Python 3",
   "language": "python",
   "name": "python3"
  },
  "language_info": {
   "codemirror_mode": {
    "name": "ipython",
    "version": 3
   },
   "file_extension": ".py",
   "mimetype": "text/x-python",
   "name": "python",
   "nbconvert_exporter": "python",
   "pygments_lexer": "ipython3",
   "version": "3.6.3"
  }
 },
 "nbformat": 4,
 "nbformat_minor": 2
}
